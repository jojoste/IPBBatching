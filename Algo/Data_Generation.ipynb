{
 "cells": [
  {
   "cell_type": "code",
   "execution_count": null,
   "id": "ca64f65d",
   "metadata": {
    "scrolled": true
   },
   "outputs": [],
   "source": [
    "import random\n",
    "\n",
    "def generate_instance(n, b, sigma):\n",
    "    # file name\n",
    "    file_name = f\"inst_{n}_{b}_{sigma}.txt\"\n",
    "\n",
    "    # sigma\n",
    "    size_ranges = {\n",
    "        1: [1, 10],\n",
    "        2: [2, 8],\n",
    "        3: [3, 10],\n",
    "        4: [1, 5]\n",
    "    }\n",
    "\n",
    "    with open(file_name, \"w\") as f:\n",
    "        # First line\n",
    "        f.write(f\"{n} {b}\\n\")\n",
    "        for _ in range(n):\n",
    "            processing_time = random.randint(1, 100)\n",
    "            size = random.randint(*size_ranges[sigma])\n",
    "            f.write(f\"{processing_time} {size}\\n\")\n",
    "\n",
    "# Generate instances for each combination of n, b, and sigma\n",
    "#for n in [20, 40, 60, 80, 100]:\n",
    "for n in [200]:\n",
    "    for b in [10, 30, 50]:\n",
    "        for sigma in [1, 2, 3, 4]:\n",
    "            generate_instance(n, b, sigma)\n",
    "\n",
    "            \n",
    "            \n",
    "            "
   ]
  },
  {
   "cell_type": "code",
   "execution_count": null,
   "id": "0cbcf7f5",
   "metadata": {},
   "outputs": [],
   "source": [
    "import pandas as pd\n",
    "import matplotlib.pyplot as plt\n",
    "\n",
    "def plot_CG_data(csv_file):\n",
    "    # Read the CSV file into a pandas DataFrame\n",
    "    df = pd.read_csv(csv_file)\n",
    "\n",
    "    # Extract the columns from the DataFrame\n",
    "    iteration = df['Iteration']\n",
    "    amount = df['Amount']\n",
    "    lb = df['LB']\n",
    "\n",
    "    # Plot the data\n",
    "    plt.plot(iteration, amount, label=\"CG_AMOUNT\", marker='o')\n",
    "    plt.plot(iteration, lb, label=\"CG_LB\", marker='s')\n",
    "\n",
    "    # Customize the plot\n",
    "    plt.xlabel(\"CG Iteration\")\n",
    "    plt.ylabel(\"Value\")\n",
    "    plt.title(\"CG_AMOUNT vs CG_LB\")\n",
    "    plt.legend()\n",
    "\n",
    "    # Display the plot\n",
    "    plt.show()\n",
    "\n",
    "# Provide the path to the CSV file\n",
    "csv_file = 'CG_DATA_2023-06-15_11-22-09.csv'\n",
    "\n",
    "# Call the plotting function\n",
    "plot_CG_data(csv_file)\n"
   ]
  },
  {
   "cell_type": "code",
   "execution_count": null,
   "id": "781c0985",
   "metadata": {},
   "outputs": [],
   "source": [
    "plot_CG_data(csv_file)"
   ]
  }
 ],
 "metadata": {
  "kernelspec": {
   "display_name": "Python 3 (ipykernel)",
   "language": "python",
   "name": "python3"
  },
  "language_info": {
   "codemirror_mode": {
    "name": "ipython",
    "version": 3
   },
   "file_extension": ".py",
   "mimetype": "text/x-python",
   "name": "python",
   "nbconvert_exporter": "python",
   "pygments_lexer": "ipython3",
   "version": "3.9.13"
  }
 },
 "nbformat": 4,
 "nbformat_minor": 5
}
