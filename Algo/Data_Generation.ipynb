{
 "cells": [
  {
   "cell_type": "code",
   "execution_count": null,
   "id": "ca64f65d",
   "metadata": {
    "scrolled": true
   },
   "outputs": [],
   "source": [
    "import random\n",
    "\n",
    "def generate_instance(n, b, sigma):\n",
    "    # file name\n",
    "    file_name = f\"inst_{n}_{b}_{sigma}.txt\"\n",
    "\n",
    "    # sigma\n",
    "    size_ranges = {\n",
    "        1: [1, 10],\n",
    "        2: [2, 8],\n",
    "        3: [3, 10],\n",
    "        4: [1, 5]\n",
    "    }\n",
    "\n",
    "    with open(file_name, \"w\") as f:\n",
    "        # First line\n",
    "        f.write(f\"{n} {b}\\n\")\n",
    "        for _ in range(n):\n",
    "            processing_time = random.randint(1, 100)\n",
    "            size = random.randint(*size_ranges[sigma])\n",
    "            f.write(f\"{processing_time} {size}\\n\")\n",
    "\n",
    "# Generate instances for each combination of n, b, and sigma\n",
    "#for n in [20, 40, 60, 80, 100]:\n",
    "for n in [200]:\n",
    "    for b in [10, 30, 50]:\n",
    "        for sigma in [1, 2, 3, 4]:\n",
    "            generate_instance(n, b, sigma)\n",
    "\n",
    "            \n",
    "            \n",
    "            "
   ]
  }
 ],
 "metadata": {
  "kernelspec": {
   "display_name": "Python 3 (ipykernel)",
   "language": "python",
   "name": "python3"
  },
  "language_info": {
   "codemirror_mode": {
    "name": "ipython",
    "version": 3
   },
   "file_extension": ".py",
   "mimetype": "text/x-python",
   "name": "python",
   "nbconvert_exporter": "python",
   "pygments_lexer": "ipython3",
   "version": "3.9.13"
  }
 },
 "nbformat": 4,
 "nbformat_minor": 5
}
